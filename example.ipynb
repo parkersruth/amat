{
 "cells": [
  {
   "cell_type": "code",
   "execution_count": null,
   "metadata": {},
   "outputs": [],
   "source": [
    "from amat import *\n",
    "\n",
    "# load DataFrame, add chat ID mapping, and set local timezone\n",
    "df = load_data(\"chat_df.pkl\", \"id_map.yaml\", \"US/Pacific\")"
   ]
  },
  {
   "cell_type": "code",
   "execution_count": null,
   "metadata": {},
   "outputs": [],
   "source": [
    "# preview the most recent 10 messages\n",
    "df.tail(4)[['text', 'contact', 'chat_id', 'timestamp']]"
   ]
  },
  {
   "cell_type": "code",
   "execution_count": null,
   "metadata": {},
   "outputs": [],
   "source": [
    "# plot total texts per month\n",
    "plot_count(df, 'M', by='chat_id', cmap=\"Blues\", legend=False, )"
   ]
  },
  {
   "cell_type": "code",
   "execution_count": null,
   "metadata": {},
   "outputs": [],
   "source": [
    "# plot length of texts from family since Jan 1, 2019 as rainbow line graph\n",
    "family = filt_func(df, 'contact', lambda x : 'Mom' in x or 'Dad' in x or 'Wombat' in x)\n",
    "plot_length(filt_date(family, start='Jan 1, 2019'), '3W', cmap='rainbow', kind='line')"
   ]
  },
  {
   "cell_type": "code",
   "execution_count": null,
   "metadata": {},
   "outputs": [],
   "source": [
    "# pie chart breakdown of message activity per contact\n",
    "breakdown(df, (1,2), by='contact', cmap='nipy_spectral')"
   ]
  },
  {
   "cell_type": "code",
   "execution_count": null,
   "metadata": {},
   "outputs": [],
   "source": [
    "# heatmap of activity per weekday with blue colormap\n",
    "weekly_heatmap(df, cmap='Blues')"
   ]
  },
  {
   "cell_type": "code",
   "execution_count": null,
   "metadata": {},
   "outputs": [],
   "source": [
    "# weekly heatmap of recent texts from Mom to me\n",
    "recent = filt_date(df, 'September 25, 2019')\n",
    "weekly_heatmap(filt_any(filt_any(recent, 'contact', 'Mom'), 'is_from_me', False))"
   ]
  },
  {
   "cell_type": "code",
   "execution_count": null,
   "metadata": {
    "scrolled": false
   },
   "outputs": [],
   "source": [
    "# all texts containing the word frabjous (case-insensitive)\n",
    "context_search(df, 'frabjous', False, 3)"
   ]
  },
  {
   "cell_type": "code",
   "execution_count": null,
   "metadata": {},
   "outputs": [],
   "source": [
    "# print last ten messages from unmapped chat IDs\n",
    "filt_any(df, 'contact', 'other').tail(10)[['date_local', 'text', 'chat_id', 'contact']]"
   ]
  }
 ],
 "metadata": {
  "kernelspec": {
   "display_name": "Python 3",
   "language": "python",
   "name": "python3"
  },
  "language_info": {
   "codemirror_mode": {
    "name": "ipython",
    "version": 3
   },
   "file_extension": ".py",
   "mimetype": "text/x-python",
   "name": "python",
   "nbconvert_exporter": "python",
   "pygments_lexer": "ipython3",
   "version": "3.7.4"
  }
 },
 "nbformat": 4,
 "nbformat_minor": 2
}
